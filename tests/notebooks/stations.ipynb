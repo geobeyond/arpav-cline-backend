{
 "cells": [
  {
   "cell_type": "code",
   "execution_count": 1,
   "id": "2e154feb-3d6f-4de7-8ebd-7132ceab1b98",
   "metadata": {},
   "outputs": [
    {
     "name": "stdout",
     "output_type": "stream",
     "text": [
      "arpav_series_configuration.identifier='tas-absolute-annual-arpa_v-yearly'\n",
      "station_arpav.code='arpav-129'\n",
      "arpafvg_series_configuration.identifier='tas-absolute-annual-arpa_fvg-yearly'\n",
      "station_arpafvg.code='arpafvg-10'\n"
     ]
    }
   ],
   "source": [
    "import time\n",
    "\n",
    "import httpx\n",
    "import sqlmodel\n",
    "\n",
    "from arpav_ppcv import (\n",
    "    config, \n",
    "    database,\n",
    ")\n",
    "from arpav_ppcv.schemas.static import ObservationStationManager\n",
    "from arpav_ppcv.observations_harvester import operations\n",
    "\n",
    "client = httpx.Client()\n",
    "settings = config.get_settings()\n",
    "session = sqlmodel.Session(database.get_engine(settings))\n",
    "\n",
    "arpav_series_configuration = database.get_observation_series_configuration_by_identifier(\n",
    "    session, \n",
    "    \"tas-absolute-annual-arpa_v-yearly\"\n",
    ")\n",
    "arpafvg_series_configuration = database.get_observation_series_configuration_by_identifier(\n",
    "    session, \n",
    "    \"tas-absolute-annual-arpa_fvg-yearly\"\n",
    ")\n",
    "\n",
    "station_arpav = database.get_observation_station_by_code(session, \"arpav-129\")\n",
    "station_arpafvg = database.get_observation_station_by_code(session, \"arpafvg-10\")\n",
    "\n",
    "print(f\"{arpav_series_configuration.identifier=}\")\n",
    "print(f\"{station_arpav.code=}\")\n",
    "print(f\"{arpafvg_series_configuration.identifier=}\")\n",
    "print(f\"{station_arpafvg.code=}\")"
   ]
  },
  {
   "cell_type": "code",
   "execution_count": 2,
   "id": "a0c7710b-c5ca-4795-af9f-6684378b8330",
   "metadata": {},
   "outputs": [],
   "source": [
    "arpav_raw_measurements = list(\n",
    "    operations.fetch_arpav_station_measurements(\n",
    "        client,\n",
    "        station_arpav,\n",
    "        arpav_series_configuration,\n",
    "        settings.arpav_observations_base_url,\n",
    "    )    \n",
    ")"
   ]
  },
  {
   "cell_type": "code",
   "execution_count": 3,
   "id": "8a98d717-09a8-45f8-b1fc-27f7c43c0b6e",
   "metadata": {},
   "outputs": [],
   "source": [
    "arpav_parsed_measurements = [\n",
    "    operations.parse_arpav_measurement(\n",
    "        raw_measurement, \n",
    "        year_period, \n",
    "        station_arpav, \n",
    "        arpav_series_configuration.climatic_indicator\n",
    "    ) for year_period, raw_measurement in arpav_raw_measurements\n",
    "]"
   ]
  },
  {
   "cell_type": "code",
   "execution_count": 6,
   "id": "1b4ca3b4-679d-4e00-b685-b725ed0e864e",
   "metadata": {},
   "outputs": [],
   "source": [
    "arpafvg_raw_measurements = list(\n",
    "    operations.fetch_arpafvg_station_measurements(\n",
    "        client,\n",
    "        station_arpafvg,\n",
    "        arpafvg_series_configuration,\n",
    "        settings.arpafvg_observations_base_url,\n",
    "        settings.arpafvg_auth_token,\n",
    "    )\n",
    ")"
   ]
  },
  {
   "cell_type": "code",
   "execution_count": 8,
   "id": "141d95c9",
   "metadata": {},
   "outputs": [],
   "source": [
    "arpafvg_parsed_measurements = [\n",
    "    operations.parse_arpafvg_measurement(\n",
    "        raw_measurement, \n",
    "        year_period, \n",
    "        station_arpafvg, \n",
    "        arpafvg_series_configuration.climatic_indicator\n",
    "    ) for year_period, raw_measurement in arpafvg_raw_measurements\n",
    "]"
   ]
  },
  {
   "cell_type": "code",
   "execution_count": 9,
   "id": "35f18a8f-5790-45fd-96f0-14b196acdaab",
   "metadata": {},
   "outputs": [
    {
     "data": {
      "text/plain": [
       "[ObservationMeasurementCreate(value=12.850555555556, date=datetime.date(1995, 1, 1), measurement_aggregation_type=<MeasurementAggregationType.YEARLY: 'yearly'>, observation_station_id=926, climatic_indicator_id=271, identifier='271-19950101/01/95'),\n",
       " ObservationMeasurementCreate(value=12.432394366197, date=datetime.date(1996, 1, 1), measurement_aggregation_type=<MeasurementAggregationType.YEARLY: 'yearly'>, observation_station_id=926, climatic_indicator_id=271, identifier='271-19960101/01/96'),\n",
       " ObservationMeasurementCreate(value=13.702247191011, date=datetime.date(1997, 1, 1), measurement_aggregation_type=<MeasurementAggregationType.YEARLY: 'yearly'>, observation_station_id=926, climatic_indicator_id=271, identifier='271-19970101/01/97'),\n",
       " ObservationMeasurementCreate(value=13.095879120879, date=datetime.date(1998, 1, 1), measurement_aggregation_type=<MeasurementAggregationType.YEARLY: 'yearly'>, observation_station_id=926, climatic_indicator_id=271, identifier='271-19980101/01/98'),\n",
       " ObservationMeasurementCreate(value=13.439452054795, date=datetime.date(1999, 1, 1), measurement_aggregation_type=<MeasurementAggregationType.YEARLY: 'yearly'>, observation_station_id=926, climatic_indicator_id=271, identifier='271-19990101/01/99'),\n",
       " ObservationMeasurementCreate(value=14.284972677596, date=datetime.date(2000, 1, 1), measurement_aggregation_type=<MeasurementAggregationType.YEARLY: 'yearly'>, observation_station_id=926, climatic_indicator_id=271, identifier='271-20000101/01/00'),\n",
       " ObservationMeasurementCreate(value=13.544383561644, date=datetime.date(2001, 1, 1), measurement_aggregation_type=<MeasurementAggregationType.YEARLY: 'yearly'>, observation_station_id=926, climatic_indicator_id=271, identifier='271-20010101/01/01'),\n",
       " ObservationMeasurementCreate(value=13.842465753425, date=datetime.date(2002, 1, 1), measurement_aggregation_type=<MeasurementAggregationType.YEARLY: 'yearly'>, observation_station_id=926, climatic_indicator_id=271, identifier='271-20020101/01/02'),\n",
       " ObservationMeasurementCreate(value=13.961369863014, date=datetime.date(2003, 1, 1), measurement_aggregation_type=<MeasurementAggregationType.YEARLY: 'yearly'>, observation_station_id=926, climatic_indicator_id=271, identifier='271-20030101/01/03'),\n",
       " ObservationMeasurementCreate(value=13.617486338798, date=datetime.date(2004, 1, 1), measurement_aggregation_type=<MeasurementAggregationType.YEARLY: 'yearly'>, observation_station_id=926, climatic_indicator_id=271, identifier='271-20040101/01/04'),\n",
       " ObservationMeasurementCreate(value=13.312602739726, date=datetime.date(2005, 1, 1), measurement_aggregation_type=<MeasurementAggregationType.YEARLY: 'yearly'>, observation_station_id=926, climatic_indicator_id=271, identifier='271-20050101/01/05'),\n",
       " ObservationMeasurementCreate(value=13.817808219178, date=datetime.date(2006, 1, 1), measurement_aggregation_type=<MeasurementAggregationType.YEARLY: 'yearly'>, observation_station_id=926, climatic_indicator_id=271, identifier='271-20060101/01/06'),\n",
       " ObservationMeasurementCreate(value=14.43698630137, date=datetime.date(2007, 1, 1), measurement_aggregation_type=<MeasurementAggregationType.YEARLY: 'yearly'>, observation_station_id=926, climatic_indicator_id=271, identifier='271-20070101/01/07'),\n",
       " ObservationMeasurementCreate(value=14.08087431694, date=datetime.date(2008, 1, 1), measurement_aggregation_type=<MeasurementAggregationType.YEARLY: 'yearly'>, observation_station_id=926, climatic_indicator_id=271, identifier='271-20080101/01/08'),\n",
       " ObservationMeasurementCreate(value=14.217534246575, date=datetime.date(2009, 1, 1), measurement_aggregation_type=<MeasurementAggregationType.YEARLY: 'yearly'>, observation_station_id=926, climatic_indicator_id=271, identifier='271-20090101/01/09'),\n",
       " ObservationMeasurementCreate(value=13.173424657534, date=datetime.date(2010, 1, 1), measurement_aggregation_type=<MeasurementAggregationType.YEARLY: 'yearly'>, observation_station_id=926, climatic_indicator_id=271, identifier='271-20100101/01/10'),\n",
       " ObservationMeasurementCreate(value=14.495616438356, date=datetime.date(2011, 1, 1), measurement_aggregation_type=<MeasurementAggregationType.YEARLY: 'yearly'>, observation_station_id=926, climatic_indicator_id=271, identifier='271-20110101/01/11'),\n",
       " ObservationMeasurementCreate(value=14.192896174863, date=datetime.date(2012, 1, 1), measurement_aggregation_type=<MeasurementAggregationType.YEARLY: 'yearly'>, observation_station_id=926, climatic_indicator_id=271, identifier='271-20120101/01/12'),\n",
       " ObservationMeasurementCreate(value=14.202191780822, date=datetime.date(2013, 1, 1), measurement_aggregation_type=<MeasurementAggregationType.YEARLY: 'yearly'>, observation_station_id=926, climatic_indicator_id=271, identifier='271-20130101/01/13'),\n",
       " ObservationMeasurementCreate(value=14.998888888889, date=datetime.date(2014, 1, 1), measurement_aggregation_type=<MeasurementAggregationType.YEARLY: 'yearly'>, observation_station_id=926, climatic_indicator_id=271, identifier='271-20140101/01/14'),\n",
       " ObservationMeasurementCreate(value=14.782739726027, date=datetime.date(2015, 1, 1), measurement_aggregation_type=<MeasurementAggregationType.YEARLY: 'yearly'>, observation_station_id=926, climatic_indicator_id=271, identifier='271-20150101/01/15'),\n",
       " ObservationMeasurementCreate(value=14.768870523416, date=datetime.date(2016, 1, 1), measurement_aggregation_type=<MeasurementAggregationType.YEARLY: 'yearly'>, observation_station_id=926, climatic_indicator_id=271, identifier='271-20160101/01/16'),\n",
       " ObservationMeasurementCreate(value=14.554310344828, date=datetime.date(2017, 1, 1), measurement_aggregation_type=<MeasurementAggregationType.YEARLY: 'yearly'>, observation_station_id=926, climatic_indicator_id=271, identifier='271-20170101/01/17'),\n",
       " ObservationMeasurementCreate(value=14.818611111111, date=datetime.date(2018, 1, 1), measurement_aggregation_type=<MeasurementAggregationType.YEARLY: 'yearly'>, observation_station_id=926, climatic_indicator_id=271, identifier='271-20180101/01/18'),\n",
       " ObservationMeasurementCreate(value=14.55989010989, date=datetime.date(2019, 1, 1), measurement_aggregation_type=<MeasurementAggregationType.YEARLY: 'yearly'>, observation_station_id=926, climatic_indicator_id=271, identifier='271-20190101/01/19'),\n",
       " ObservationMeasurementCreate(value=14.281643835616, date=datetime.date(2020, 1, 1), measurement_aggregation_type=<MeasurementAggregationType.YEARLY: 'yearly'>, observation_station_id=926, climatic_indicator_id=271, identifier='271-20200101/01/20'),\n",
       " ObservationMeasurementCreate(value=13.779063360882, date=datetime.date(2021, 1, 1), measurement_aggregation_type=<MeasurementAggregationType.YEARLY: 'yearly'>, observation_station_id=926, climatic_indicator_id=271, identifier='271-20210101/01/21'),\n",
       " ObservationMeasurementCreate(value=14.950136986301, date=datetime.date(2022, 1, 1), measurement_aggregation_type=<MeasurementAggregationType.YEARLY: 'yearly'>, observation_station_id=926, climatic_indicator_id=271, identifier='271-20220101/01/22'),\n",
       " ObservationMeasurementCreate(value=14.905785123967, date=datetime.date(2023, 1, 1), measurement_aggregation_type=<MeasurementAggregationType.YEARLY: 'yearly'>, observation_station_id=926, climatic_indicator_id=271, identifier='271-20230101/01/23'),\n",
       " ObservationMeasurementCreate(value=15.174590163934, date=datetime.date(2024, 1, 1), measurement_aggregation_type=<MeasurementAggregationType.YEARLY: 'yearly'>, observation_station_id=926, climatic_indicator_id=271, identifier='271-20240101/01/24')]"
      ]
     },
     "execution_count": 9,
     "metadata": {},
     "output_type": "execute_result"
    }
   ],
   "source": [
    "arpafvg_parsed_measurements"
   ]
  }
 ],
 "metadata": {
  "kernelspec": {
   "display_name": "Python 3 (ipykernel)",
   "language": "python",
   "name": "python3"
  },
  "language_info": {
   "codemirror_mode": {
    "name": "ipython",
    "version": 3
   },
   "file_extension": ".py",
   "mimetype": "text/x-python",
   "name": "python",
   "nbconvert_exporter": "python",
   "pygments_lexer": "ipython3",
   "version": "3.10.8"
  }
 },
 "nbformat": 4,
 "nbformat_minor": 5
}
