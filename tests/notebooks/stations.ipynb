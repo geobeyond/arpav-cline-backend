{
 "cells": [
  {
   "cell_type": "code",
   "execution_count": 1,
   "id": "2e154feb-3d6f-4de7-8ebd-7132ceab1b98",
   "metadata": {},
   "outputs": [
    {
     "name": "stdout",
     "output_type": "stream",
     "text": [
      "series_configuration.identifier='tas-absolute-annual-arpa_v:arpa_fvg-yearly'\n",
      "station_arpav.code='arpa_v-129'\n",
      "station_arpafvg.code='arpa_fvg-10'\n"
     ]
    }
   ],
   "source": [
    "import time\n",
    "\n",
    "import httpx\n",
    "import sqlmodel\n",
    "\n",
    "from arpav_ppcv import (\n",
    "    config, \n",
    "    database,\n",
    ")\n",
    "from arpav_ppcv.schemas.static import ObservationStationManager\n",
    "from arpav_ppcv.observations_harvester import (\n",
    "    arpav as arpav_operations,\n",
    "    arpafvg as arpafvg_operations,\n",
    ")\n",
    "\n",
    "client = httpx.Client()\n",
    "settings = config.get_settings()\n",
    "session = sqlmodel.Session(database.get_engine(settings))\n",
    "\n",
    "series_configuration = database.get_observation_series_configuration_by_identifier(\n",
    "    session, \n",
    "    \"tas-absolute-annual-arpa_v:arpa_fvg-yearly\"\n",
    ")\n",
    "\n",
    "station_arpav = database.get_observation_station_by_code(session, \"arpa_v-129\")\n",
    "station_arpafvg = database.get_observation_station_by_code(session, \"arpa_fvg-10\")\n",
    "\n",
    "print(f\"{series_configuration.identifier=}\")\n",
    "print(f\"{station_arpav.code=}\")\n",
    "print(f\"{station_arpafvg.code=}\")"
   ]
  },
  {
   "cell_type": "code",
   "execution_count": 4,
   "id": "7b81e165-e590-4bb9-bbc9-24b83254cc1b",
   "metadata": {},
   "outputs": [
    {
     "name": "stdout",
     "output_type": "stream",
     "text": [
      "['cdds-absolute-annual', 'fd-absolute-annual', 'hdds-absolute-annual', 'pr-absolute-annual', 'su30-absolute-annual', 'tas-absolute-annual', 'tasmax-absolute-annual', 'tasmin-absolute-annual', 'tr-absolute-annual']\n",
      "['fd-absolute-annual', 'pr-absolute-annual', 'snwdays-absolute-annual', 'su30-absolute-annual', 'tas-absolute-annual', 'tasmax-absolute-annual', 'tasmin-absolute-annual', 'tr-absolute-annual']\n"
     ]
    }
   ],
   "source": [
    "print(f\"{[ci.identifier for ci in station_arpav.climatic_indicators]}\")\n",
    "print(f\"{[ci.identifier for ci in station_arpafvg.climatic_indicators]}\")"
   ]
  },
  {
   "cell_type": "code",
   "execution_count": null,
   "id": "a0c7710b-c5ca-4795-af9f-6684378b8330",
   "metadata": {},
   "outputs": [],
   "source": [
    "arpav_raw_measurements = list(\n",
    "    operations.fetch_arpav_station_measurements(\n",
    "        client,\n",
    "        station_arpav,\n",
    "        arpav_series_configuration,\n",
    "        settings.arpav_observations_base_url,\n",
    "    )    \n",
    ")"
   ]
  },
  {
   "cell_type": "code",
   "execution_count": null,
   "id": "8a98d717-09a8-45f8-b1fc-27f7c43c0b6e",
   "metadata": {},
   "outputs": [],
   "source": [
    "arpav_parsed_measurements = [\n",
    "    operations.parse_arpav_measurement(\n",
    "        raw_measurement, \n",
    "        year_period, \n",
    "        station_arpav, \n",
    "        arpav_series_configuration.climatic_indicator\n",
    "    ) for year_period, raw_measurement in arpav_raw_measurements\n",
    "]"
   ]
  },
  {
   "cell_type": "code",
   "execution_count": null,
   "id": "1b4ca3b4-679d-4e00-b685-b725ed0e864e",
   "metadata": {},
   "outputs": [],
   "source": [
    "arpafvg_raw_measurements = list(\n",
    "    operations.fetch_arpafvg_station_measurements(\n",
    "        client,\n",
    "        station_arpafvg,\n",
    "        arpafvg_series_configuration,\n",
    "        settings.arpafvg_observations_base_url,\n",
    "        settings.arpafvg_auth_token,\n",
    "    )\n",
    ")"
   ]
  },
  {
   "cell_type": "code",
   "execution_count": null,
   "id": "141d95c9",
   "metadata": {},
   "outputs": [],
   "source": [
    "arpafvg_parsed_measurements = [\n",
    "    operations.parse_arpafvg_measurement(\n",
    "        raw_measurement, \n",
    "        year_period, \n",
    "        station_arpafvg, \n",
    "        arpafvg_series_configuration.climatic_indicator\n",
    "    ) for year_period, raw_measurement in arpafvg_raw_measurements\n",
    "]"
   ]
  },
  {
   "cell_type": "code",
   "execution_count": null,
   "id": "35f18a8f-5790-45fd-96f0-14b196acdaab",
   "metadata": {},
   "outputs": [],
   "source": [
    "arpafvg_parsed_measurements"
   ]
  }
 ],
 "metadata": {
  "kernelspec": {
   "display_name": "Python 3 (ipykernel)",
   "language": "python",
   "name": "python3"
  },
  "language_info": {
   "codemirror_mode": {
    "name": "ipython",
    "version": 3
   },
   "file_extension": ".py",
   "mimetype": "text/x-python",
   "name": "python",
   "nbconvert_exporter": "python",
   "pygments_lexer": "ipython3",
   "version": "3.10.8"
  }
 },
 "nbformat": 4,
 "nbformat_minor": 5
}
