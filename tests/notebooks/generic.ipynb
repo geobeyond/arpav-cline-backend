{
 "cells": [
  {
   "cell_type": "code",
   "execution_count": 1,
   "id": "dbcc00b1-2fc1-43ff-9549-ebca8cf03262",
   "metadata": {},
   "outputs": [],
   "source": [
    "%matplotlib widget\n",
    "\n",
    "import logging\n",
    "import time\n",
    "\n",
    "import cftime\n",
    "import httpx\n",
    "import matplotlib.pyplot as plt\n",
    "import netCDF4\n",
    "import pandas as pd\n",
    "import shapely.io\n",
    "import sqlmodel\n",
    "from sqlalchemy import (\n",
    "    bindparam, \n",
    "    func\n",
    ")\n",
    "\n",
    "from arpav_ppcv import (\n",
    "    database as db,\n",
    "    operations,\n",
    ")\n",
    "from arpav_ppcv.config import get_settings\n",
    "from arpav_ppcv.schemas.base import (\n",
    "    CoverageDataSmoothingStrategy,\n",
    "    ObservationDataSmoothingStrategy,\n",
    "    ObservationAggregationType,\n",
    "    Season,\n",
    ")\n",
    "from arpav_ppcv.schemas import coverages\n",
    "from arpav_ppcv.schemas.coverages import CoverageInternal\n",
    "from arpav_ppcv.schemas import observations\n",
    "\n",
    "logging.basicConfig(level=logging.DEBUG)\n",
    "logging.getLogger(\"httpx\").setLevel(logging.WARNING)\n",
    "logging.getLogger(\"httpcore\").setLevel(logging.WARNING)\n",
    "logging.getLogger(\"matplotlib\").setLevel(logging.WARNING)\n",
    "\n",
    "settings = get_settings()\n",
    "session = sqlmodel.Session(db.get_engine(settings))\n",
    "http_client = httpx.Client()"
   ]
  },
  {
   "cell_type": "code",
   "execution_count": 2,
   "id": "839244fc-728f-47b3-9a72-a1011b87b38a",
   "metadata": {},
   "outputs": [],
   "source": [
    "cov = db.get_coverage(session, \"tdd_annual_seasonal-annual-historical-tdd-winter-absolute\")"
   ]
  },
  {
   "cell_type": "code",
   "execution_count": 7,
   "id": "3b9568da-dab3-41b3-9f53-e27590403134",
   "metadata": {},
   "outputs": [
    {
     "data": {
      "text/plain": [
       "(-5.0, 20.0)"
      ]
     },
     "execution_count": 7,
     "metadata": {},
     "output_type": "execute_result"
    }
   ],
   "source": [
    "cov.configuration.color_scale_min, cov.configuration.color_scale_max"
   ]
  },
  {
   "cell_type": "code",
   "execution_count": 3,
   "id": "c7bd9e38-0118-4f75-b4cc-5a7643d3ef44",
   "metadata": {},
   "outputs": [],
   "source": [
    "from arpav_ppcv import palette"
   ]
  },
  {
   "cell_type": "code",
   "execution_count": 5,
   "id": "c66d4a86-9b91-4caf-a6d2-5e5ebe26c95b",
   "metadata": {},
   "outputs": [],
   "source": [
    "parsed_palette = palette.parse_palette(cov.configuration.palette, settings.palettes_dir)"
   ]
  },
  {
   "cell_type": "code",
   "execution_count": 6,
   "id": "6dab8c5c-f788-41e5-9a26-faeb4ec9f26a",
   "metadata": {},
   "outputs": [
    {
     "data": {
      "text/plain": [
       "[(-5.0, '#FFffffcc'),\n",
       " (-1.875, '#FFffeda0'),\n",
       " (1.25, '#FFfed976'),\n",
       " (4.375, '#FFfeb24c'),\n",
       " (7.5, '#FFfd8d3c'),\n",
       " (10.625, '#FFfc4e2a'),\n",
       " (13.75, '#FFe31a1c'),\n",
       " (16.875, '#FFbd0026'),\n",
       " (20.0, '#FF800026')]"
      ]
     },
     "execution_count": 6,
     "metadata": {},
     "output_type": "execute_result"
    }
   ],
   "source": [
    "palette.apply_palette(parsed_palette, cov.configuration.color_scale_min, cov.configuration.color_scale_max)"
   ]
  },
  {
   "cell_type": "code",
   "execution_count": 11,
   "id": "b3cdcb69-b927-4626-b272-990e613dc69f",
   "metadata": {},
   "outputs": [
    {
     "data": {
      "text/plain": [
       "'cline_yr/TDd_S01_*.nc'"
      ]
     },
     "execution_count": 11,
     "metadata": {},
     "output_type": "execute_result"
    }
   ],
   "source": [
    "cov.configuration.get_thredds_url_fragment(cov.identifier)"
   ]
  }
 ],
 "metadata": {
  "kernelspec": {
   "display_name": "Python 3 (ipykernel)",
   "language": "python",
   "name": "python3"
  },
  "language_info": {
   "codemirror_mode": {
    "name": "ipython",
    "version": 3
   },
   "file_extension": ".py",
   "mimetype": "text/x-python",
   "name": "python",
   "nbconvert_exporter": "python",
   "pygments_lexer": "ipython3",
   "version": "3.10.14"
  }
 },
 "nbformat": 4,
 "nbformat_minor": 5
}
