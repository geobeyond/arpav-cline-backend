{
 "cells": [
  {
   "cell_type": "code",
   "execution_count": 1,
   "id": "6ccb36a6-1648-405b-baf8-eb6ad4f2a425",
   "metadata": {},
   "outputs": [],
   "source": [
    "import sqlmodel\n",
    "\n",
    "from arpav_ppcv import (\n",
    "    config,\n",
    "    database,\n",
    "    operations,\n",
    ")\n",
    "from arpav_ppcv.schemas import (\n",
    "    coverages,\n",
    "    observations,\n",
    "    static,\n",
    ")\n",
    "\n",
    "settings = config.get_settings()\n",
    "session = sqlmodel.Session(database.get_engine(settings))"
   ]
  },
  {
   "cell_type": "code",
   "execution_count": 2,
   "id": "b7b93704-5010-4ff4-96e4-e5dceb657668",
   "metadata": {},
   "outputs": [
    {
     "name": "stdout",
     "output_type": "stream",
     "text": [
      "forecast-tas-absolute-annual-arpa_vfvg-model_ensemble-rcp26-winter\n",
      "forecast-tas-absolute-annual-arpa_vfvg-ec_earth_cclm_4_8_17-rcp45-summer\n"
     ]
    }
   ],
   "source": [
    "fci1 = database.get_forecast_coverage(session, \"forecast-tas-absolute-annual-arpa_vfvg-model_ensemble-rcp26-winter\")\n",
    "fci2 = database.get_forecast_coverage(session, \"forecast-tas-absolute-annual-arpa_vfvg-ec_earth_cclm_4_8_17-rcp45-summer\")\n",
    "print(fci1.identifier if fci1 is not None else \"fci1 not found\")\n",
    "print(fci2.identifier if fci2 is not None else \"fci2 not found\")"
   ]
  },
  {
   "cell_type": "code",
   "execution_count": 3,
   "id": "72f544ed-7c50-4a1d-a66e-ace86e78b135",
   "metadata": {},
   "outputs": [
    {
     "name": "stdout",
     "output_type": "stream",
     "text": [
      "http://thredds:8080/thredds/ncss/grid/ensymbc/clipped/tas_avg_rcp26_DJF_ts19762100_ls_arpa_vfvg.nc\n",
      "http://thredds:8080/thredds/ncss/grid/EC-EARTH_CCLM4-8-17ymbc/clipped/tas_ec_earth_cclm_4_8_17_rcp45_JJA_ts19762100_ls_arpa_vfvg.nc\n"
     ]
    }
   ],
   "source": [
    "print(fci1.get_thredds_ncss_url(settings.thredds_server))\n",
    "print(fci2.get_thredds_ncss_url(settings.thredds_server))"
   ]
  },
  {
   "cell_type": "code",
   "execution_count": 7,
   "id": "f950685d-140c-43ce-b51a-1f291e8b26dd",
   "metadata": {},
   "outputs": [
    {
     "data": {
      "text/plain": [
       "'http://thredds:8080/thredds/ncss/grid//tas_stddown_rcp26_DJF_ts19762100_ls_arpa_vfvg.nc'"
      ]
     },
     "execution_count": 7,
     "metadata": {},
     "output_type": "execute_result"
    }
   ],
   "source": [
    "fci1.get_lower_uncertainty_thredds_ncss_url(settings.thredds_server)"
   ]
  },
  {
   "cell_type": "code",
   "execution_count": 8,
   "id": "982e02a6-dcde-4109-b4a9-1d51c146155d",
   "metadata": {},
   "outputs": [],
   "source": [
    "fci2.get_lower_uncertainty_thredds_ncss_url(settings.thredds_server)"
   ]
  }
 ],
 "metadata": {
  "kernelspec": {
   "display_name": "Python 3 (ipykernel)",
   "language": "python",
   "name": "python3"
  },
  "language_info": {
   "codemirror_mode": {
    "name": "ipython",
    "version": 3
   },
   "file_extension": ".py",
   "mimetype": "text/x-python",
   "name": "python",
   "nbconvert_exporter": "python",
   "pygments_lexer": "ipython3",
   "version": "3.10.8"
  }
 },
 "nbformat": 4,
 "nbformat_minor": 5
}
