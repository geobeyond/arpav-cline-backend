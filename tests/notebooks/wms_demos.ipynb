{
 "cells": [
  {
   "cell_type": "markdown",
   "id": "b4ee73d7-e571-4893-b9fe-846ead704cbd",
   "metadata": {},
   "source": [
    "# WMS services\n",
    "\n",
    "In this notebook we verify that WMS services are working for all forecast variables"
   ]
  },
  {
   "cell_type": "code",
   "execution_count": 30,
   "id": "51805c30-abee-4cbd-b361-707c2fb6773a",
   "metadata": {},
   "outputs": [],
   "source": [
    "import ipyleaflet\n",
    "import ipywidgets\n",
    "import sidecar\n",
    "import sqlmodel\n",
    "\n",
    "from IPython.display import display\n",
    "\n",
    "from arpav_ppcv import (\n",
    "    config,\n",
    "    database,\n",
    "    datadownloads,\n",
    "    operations,\n",
    ")\n",
    "\n",
    "settings = config.get_settings()\n",
    "session = sqlmodel.Session(database.get_engine(settings))\n",
    "\n",
    "all_covs = database.collect_all_coverages(session)"
   ]
  },
  {
   "cell_type": "code",
   "execution_count": 6,
   "id": "49f163fd-e7aa-4f83-af37-cc5d7ea0e10a",
   "metadata": {},
   "outputs": [],
   "source": [
    "covs = {c.identifier: c for c in all_covs}"
   ]
  },
  {
   "cell_type": "code",
   "execution_count": 28,
   "id": "fbfbbe18-1183-4d50-8092-5cbdd44b2ae5",
   "metadata": {},
   "outputs": [],
   "source": [
    "cov_id = \"tasmin_30yr_anomaly_seasonal_agree_model_ensemble-30yr-forecast-model_ensemble-tasmin-anomaly-rcp85-tw1-lower_bound-winter\""
   ]
  },
  {
   "cell_type": "code",
   "execution_count": 17,
   "id": "c817751e-49bb-442c-bde4-5f23b2b93456",
   "metadata": {},
   "outputs": [],
   "source": [
    "arpav_grid = datadownloads.CoverageDownloadGrid.from_config(settings.coverage_download_settings.spatial_grid)\n",
    "map_center = arpav_grid.shapely_box.centroid\n",
    "m = ipyleaflet.Map(center=(map_center.y, map_center.x), zoom=7)\n",
    "m.add_control(ipyleaflet.LayersControl(position=\"topright\"))"
   ]
  },
  {
   "cell_type": "code",
   "execution_count": 29,
   "id": "8f48dd51-6f21-4c97-a16c-fd8040ae6217",
   "metadata": {},
   "outputs": [],
   "source": [
    "sc = sidecar.Sidecar(title=\"map\")\n",
    "\n",
    "with sc:\n",
    "    display(m)"
   ]
  },
  {
   "cell_type": "code",
   "execution_count": 19,
   "id": "3788f2f9-b197-4a5d-b60d-532e50f0df40",
   "metadata": {},
   "outputs": [],
   "source": [
    "wms_layer = ipyleaflet.WMSLayer(\n",
    "    name=cov_id,\n",
    "    url=f\"http://localhost:8877/api/v2/coverages/wms/{cov_id}\",\n",
    "    layers=covs[cov_id].configuration.wms_main_layer_name,\n",
    "    format=\"image/png\",\n",
    "    transparent=True,\n",
    ")\n",
    "m.add_layer(wms_layer)"
   ]
  }
 ],
 "metadata": {
  "kernelspec": {
   "display_name": "Python 3 (ipykernel)",
   "language": "python",
   "name": "python3"
  },
  "language_info": {
   "codemirror_mode": {
    "name": "ipython",
    "version": 3
   },
   "file_extension": ".py",
   "mimetype": "text/x-python",
   "name": "python",
   "nbconvert_exporter": "python",
   "pygments_lexer": "ipython3",
   "version": "3.10.15"
  }
 },
 "nbformat": 4,
 "nbformat_minor": 5
}
