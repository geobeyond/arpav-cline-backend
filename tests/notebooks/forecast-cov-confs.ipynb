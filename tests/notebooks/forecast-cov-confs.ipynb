{
 "cells": [
  {
   "cell_type": "markdown",
   "id": "2dac8fd0-3d39-447e-88d3-e9152bd1ea06",
   "metadata": {},
   "source": [
    "# Forecast Coverage Configurations\n",
    "\n",
    "This notebook serves for demo/interactive testing of the new forecast coverage configurations.\n",
    "\n",
    "Taking the various forecast coverage configurations of the `TAS` physical variable, we demo the creation and retrieval of the respective forecast coverages."
   ]
  },
  {
   "cell_type": "code",
   "execution_count": 1,
   "id": "cd0f0972-fad9-4c05-96a9-cf919351b5a1",
   "metadata": {},
   "outputs": [
    {
     "data": {
      "text/plain": [
       "['forecast-tas-absolute-annual-arpa_vfvg',\n",
       " 'forecast-tas-absolute-annual-arpa_vfvg-all_year',\n",
       " 'forecast-tas-anomaly-annual-arpa_vfvgtaa',\n",
       " 'forecast-tas-anomaly-thirty_year-arpa_vfvgtaa-model_ensemble',\n",
       " 'forecast-tas-anomaly-thirty_year-arpa_vfvgtaa']"
      ]
     },
     "execution_count": 1,
     "metadata": {},
     "output_type": "execute_result"
    }
   ],
   "source": [
    "import logging\n",
    "\n",
    "import sqlmodel\n",
    "\n",
    "from arpav_ppcv import (\n",
    "    config,\n",
    "    database\n",
    ")\n",
    "\n",
    "logging.basicConfig(level=logging.WARNING)\n",
    "\n",
    "settings = config.get_settings()\n",
    "settings.verbose_db_logs = False\n",
    "session = sqlmodel.Session(database.get_engine(settings))\n",
    "\n",
    "all_forecast_coverage_configurations = database.collect_all_forecast_coverage_configurations(session)\n",
    "\n",
    "[fcm.identifier for fcm in all_forecast_coverage_configurations]"
   ]
  },
  {
   "cell_type": "markdown",
   "id": "d9589d77-4e6f-4c34-93e1-44e97a48407c",
   "metadata": {},
   "source": [
    "### Case 1 - `tas-absolute-annual` aggregated by season"
   ]
  },
  {
   "cell_type": "code",
   "execution_count": null,
   "id": "371a1121-e8e0-4aa8-8201-9e63f6bf1e0e",
   "metadata": {},
   "outputs": [],
   "source": [
    "fcov1 = database.get_forecast_coverage(session, \"forecast-tas-absolute-annual-arpa_vfvg-model_ensemble-rcp26-winter\")\n",
    "fcov1.identifier"
   ]
  },
  {
   "cell_type": "markdown",
   "id": "2051bf6d-5168-4998-8eb9-4ad92787e325",
   "metadata": {},
   "source": [
    "### Case 2 - `tas-absolute-annual` aggregated by year"
   ]
  },
  {
   "cell_type": "code",
   "execution_count": null,
   "id": "65254f2d-33a2-43cd-9595-f17bfcc6dff0",
   "metadata": {},
   "outputs": [],
   "source": [
    "fcov2 = database.get_forecast_coverage(session, \"forecast-tas-absolute-annual-arpa_vfvg-all_year-model_ensemble-rcp45\")\n",
    "fcov2.identifier"
   ]
  },
  {
   "cell_type": "markdown",
   "id": "8f86fa33-e129-4a1d-b357-273d8cc637f5",
   "metadata": {},
   "source": [
    "### Case 3 - `tas-anomaly-annual`"
   ]
  },
  {
   "cell_type": "code",
   "execution_count": null,
   "id": "086acaa0-ec85-4eb0-ac5a-a407a55ca0fb",
   "metadata": {},
   "outputs": [],
   "source": [
    "fcov3 = database.get_forecast_coverage(session, \"forecast-tas-anomaly-annual-arpa_vfvgtaa-model_ensemble-rcp26-summer\")\n",
    "fcov3.identifier"
   ]
  },
  {
   "cell_type": "markdown",
   "id": "a2bcb525-36f9-4a38-b9d6-5b5ab4281a8f",
   "metadata": {},
   "source": [
    "### Case 4 - `tas-anomaly-thirty_year` with `model_ensemble`\n",
    "\n",
    "When the `aggregation_period` is `thirty_year`, coverages have the additional `time_window` parameter. Also, in this case, the `forecast_model=model_ensemble` dictates a particular forecast coverage configuration identifier"
   ]
  },
  {
   "cell_type": "code",
   "execution_count": null,
   "id": "0e6aedf6-9816-4a66-b59e-3c46679123f3",
   "metadata": {},
   "outputs": [],
   "source": [
    "fcov4 = database.get_forecast_coverage(session, \"forecast-tas-anomaly-thirty_year-arpa_vfvgtaa-model_ensemble-rcp26-summer-tw1\")\n",
    "fcov4.identifier"
   ]
  },
  {
   "cell_type": "markdown",
   "id": "1419aadc-9b4d-4689-b854-abeb8abf35c4",
   "metadata": {},
   "source": [
    "### Case 5 - `tas-anomaly-thirty_year` with other models"
   ]
  },
  {
   "cell_type": "code",
   "execution_count": null,
   "id": "3ddb14a9-7c19-4f9f-b0cf-ef98ace1761c",
   "metadata": {},
   "outputs": [],
   "source": [
    "fcov5 = database.get_forecast_coverage(session, \"forecast-tas-anomaly-thirty_year-arpa_vfvgtaa-ec_earth_cclm_4_8_17-rcp26-summer-tw1\")\n",
    "fcov5.identifier"
   ]
  },
  {
   "cell_type": "markdown",
   "id": "9c719719-8371-455d-9093-6c622cb363c7",
   "metadata": {},
   "source": [
    "---\n",
    "\n",
    "Below we do a complete generation and parsing of all forecast coverages"
   ]
  },
  {
   "cell_type": "code",
   "execution_count": null,
   "id": "47b0ec75-1682-449f-a73a-d77cc29cab84",
   "metadata": {},
   "outputs": [],
   "source": [
    "for fcc in all_forecast_coverage_configurations:\n",
    "    print(f\"{fcc.identifier=}\")\n",
    "    for generated_fcov in database.generate_forecast_coverages_from_configuration(fcc):\n",
    "        fcov = database.get_forecast_coverage(session, generated_fcov.identifier)\n",
    "        if generated_fcov.identifier != fcov.identifier:\n",
    "            print(f\"\\t{generated_fcov.identifier=}\") \n",
    "            print(f\"\\t{fcov.identifier=}\")\n",
    "        print(\"--------------------------------\")"
   ]
  },
  {
   "cell_type": "markdown",
   "id": "2f6b4d5d-be3b-4535-aabe-227637f729f6",
   "metadata": {},
   "source": [
    "---"
   ]
  },
  {
   "cell_type": "code",
   "execution_count": 2,
   "id": "9643cf51-5ed9-4408-a04f-c7a839ef08c6",
   "metadata": {},
   "outputs": [],
   "source": [
    "fcov = database.get_forecast_coverage(session, \"forecast-tas-absolute-annual-arpa_vfvg-model_ensemble-rcp26-winter\")"
   ]
  },
  {
   "cell_type": "code",
   "execution_count": 3,
   "id": "aad3b234-7e2e-4405-bbaf-0844eb8caced",
   "metadata": {},
   "outputs": [
    {
     "data": {
      "text/plain": [
       "'ensymbc/clipped/tas_avg_rcp26_DJF_ts19762100_ls_arpa_vfvg.nc'"
      ]
     },
     "execution_count": 3,
     "metadata": {},
     "output_type": "execute_result"
    }
   ],
   "source": [
    "fcov.get_thredds_url()"
   ]
  },
  {
   "cell_type": "code",
   "execution_count": 4,
   "id": "d88977f6-7915-4a3d-a754-7c0472cfd3f6",
   "metadata": {},
   "outputs": [
    {
     "data": {
      "text/plain": [
       "'tas'"
      ]
     },
     "execution_count": 4,
     "metadata": {},
     "output_type": "execute_result"
    }
   ],
   "source": [
    "fcov.get_netcdf_main_dataset_name()"
   ]
  }
 ],
 "metadata": {
  "kernelspec": {
   "display_name": "Python 3 (ipykernel)",
   "language": "python",
   "name": "python3"
  },
  "language_info": {
   "codemirror_mode": {
    "name": "ipython",
    "version": 3
   },
   "file_extension": ".py",
   "mimetype": "text/x-python",
   "name": "python",
   "nbconvert_exporter": "python",
   "pygments_lexer": "ipython3",
   "version": "3.10.16"
  }
 },
 "nbformat": 4,
 "nbformat_minor": 5
}
