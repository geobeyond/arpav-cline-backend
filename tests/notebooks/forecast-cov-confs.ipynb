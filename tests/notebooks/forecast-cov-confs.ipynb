{
 "cells": [
  {
   "cell_type": "markdown",
   "id": "2dac8fd0-3d39-447e-88d3-e9152bd1ea06",
   "metadata": {},
   "source": [
    "# Forecast Coverage Configurations\n",
    "\n",
    "This notebook serves for demo/interactive testing of the new forecast coverage configurations"
   ]
  },
  {
   "cell_type": "code",
   "execution_count": 8,
   "id": "cd0f0972-fad9-4c05-96a9-cf919351b5a1",
   "metadata": {},
   "outputs": [
    {
     "name": "stdout",
     "output_type": "stream",
     "text": [
      "Found 58 forecast coverage configurations\n"
     ]
    }
   ],
   "source": [
    "import logging\n",
    "\n",
    "import sqlmodel\n",
    "\n",
    "from arpav_ppcv import (\n",
    "    config,\n",
    "    database\n",
    ")\n",
    "\n",
    "logging.basicConfig(level=logging.DEBUG)\n",
    "\n",
    "settings = config.get_settings()\n",
    "session = sqlmodel.Session(database.get_engine(settings))\n",
    "\n",
    "all_forecast_coverage_configurations = database.collect_all_forecast_coverage_configurations(session)\n",
    "\n",
    "print(f\"Found {len(all_forecast_coverage_configurations)} forecast coverage configurations\")"
   ]
  },
  {
   "cell_type": "code",
   "execution_count": 9,
   "id": "97661148-3352-41f9-ad47-095210d8eea3",
   "metadata": {},
   "outputs": [
    {
     "name": "stdout",
     "output_type": "stream",
     "text": [
      "Found 1728 forecast coverages\n"
     ]
    }
   ],
   "source": [
    "all_forecast_coverages = []\n",
    "for fcc in all_forecast_coverage_configurations:\n",
    "    all_forecast_coverages.extend(database.generate_forecast_coverages_from_configuration(fcc))\n",
    "print(f\"Found {len(all_forecast_coverages)} forecast coverages\")"
   ]
  },
  {
   "cell_type": "markdown",
   "id": "af38437d-6b7b-49e4-bee8-0d00f571b034",
   "metadata": {},
   "source": [
    "---\n",
    "\n",
    "Below we demonstrate that the code that generates/parses/fetches forecast coverages, forecast coverage configurations and climatic indicators by their respective identifiers is working correctly.\n",
    "\n",
    "We take each `forecast_coverage_configuration` and use it with the `database.generate_forecast_coverages_from_configuration()` function to generate all possible forecast coverages.\n",
    "\n",
    "Then we take each generated forecast coverage's identifier and use it to recreate the forecast coverage by calling the `database.get_forecast_coverage()` function. Finally we compare the identifiers of both and check whether they are equal."
   ]
  },
  {
   "cell_type": "code",
   "execution_count": 11,
   "id": "576eed4e-88c1-4591-8ff5-a1e7d97f1737",
   "metadata": {},
   "outputs": [
    {
     "name": "stdout",
     "output_type": "stream",
     "text": [
      "forecast-cdd-anomaly-thirty_year-arpa_vfvgtaa-model_ensemble\n",
      "forecast-cdd-anomaly-thirty_year-arpa_vfvgtaa\n",
      "forecast-cdds-anomaly-thirty_year-arpa_vfvg-model_ensemble-all_year\n",
      "forecast-cdds-anomaly-thirty_year-arpa_vfvg-all_year\n",
      "forecast-cdds-absolute-annual-arpa_vfvg-model_ensemble-all_year\n",
      "forecast-cdds-absolute-annual-arpa_vfvg-all_year\n",
      "forecast-fd-anomaly-thirty_year-arpa_vfvg-model_ensemble-all_year\n",
      "forecast-fd-anomaly-thirty_year-arpa_vfvg-all_year\n",
      "forecast-fd-absolute-annual-arpa_vfvg-model_ensemble-all_year\n",
      "forecast-fd-absolute-annual-arpa_vfvg-all_year\n",
      "forecast-hdds-anomaly-thirty_year-arpa_vfvg-model_ensemble-all_year\n",
      "forecast-hdds-anomaly-thirty_year-arpa_vfvg-all_year\n",
      "forecast-hdds-absolute-annual-arpa_vfvg-model_ensemble-all_year\n",
      "forecast-hdds-absolute-annual-arpa_vfvg-all_year\n",
      "forecast-hwdi-anomaly-thirty_year-arpa_vfvgtaa-model_ensemble-summer\n",
      "forecast-hwdi-anomaly-thirty_year-arpa_vfvgtaa-summer\n",
      "forecast-pr-anomaly-thirty_year-arpa_vfvgtaa-model_ensemble\n",
      "forecast-pr-anomaly-thirty_year-arpa_vfvgtaa\n",
      "forecast-pr-anomaly-annual-arpa_vfvgtaa-model_ensemble\n",
      "forecast-pr-anomaly-annual-arpa_vfvgtaa\n",
      "forecast-pr-absolute-annual-arpa_vfvgtaa-model_ensemble\n",
      "forecast-pr-absolute-annual-arpa_vfvgtaa\n",
      "forecast-pr-absolute-annual-arpa_vfvgtaa-model_ensemble-all_year\n",
      "forecast-pr-absolute-annual-arpa_vfvgtaa-all_year\n",
      "forecast-r95ptot-anomaly-thirty_year-arpa_vfvgtaa-model_ensemble\n",
      "forecast-r95ptot-anomaly-thirty_year-arpa_vfvgtaa\n",
      "forecast-snwdays-anomaly-thirty_year-arpa_vfvg-model_ensemble-all_year\n",
      "forecast-snwdays-anomaly-thirty_year-arpa_vfvg-all_year\n",
      "forecast-snwdays-absolute-annual-arpa_vfvg-model_ensemble-all_year\n",
      "forecast-snwdays-absolute-annual-arpa_vfvg-all_year\n",
      "forecast-su30-anomaly-thirty_year-arpa_vfvg-model_ensemble-all_year\n",
      "forecast-su30-anomaly-thirty_year-arpa_vfvg-all_year\n",
      "forecast-su30-absolute-annual-arpa_vfvg-model_ensemble-all_year\n",
      "forecast-su30-absolute-annual-arpa_vfvg-all_year\n",
      "forecast-tas-anomaly-thirty_year-arpa_vfvgtaa-model_ensemble\n",
      "forecast-tas-anomaly-thirty_year-arpa_vfvgtaa\n",
      "forecast-tas-anomaly-annual-arpa_vfvgtaa-model_ensemble\n",
      "forecast-tas-anomaly-annual-arpa_vfvgtaa\n",
      "forecast-tas-absolute-annual-arpa_vfvg-model_ensemble\n",
      "forecast-tas-absolute-annual-arpa_vfvg\n",
      "forecast-tas-absolute-annual-arpa_vfvg-model_ensemble-all_year\n",
      "forecast-tas-absolute-annual-arpa_vfvg-all_year\n",
      "forecast-tasmax-anomaly-thirty_year-arpa_vfvgtaa-model_ensemble\n",
      "forecast-tasmax-anomaly-thirty_year-arpa_vfvgtaa\n",
      "forecast-tasmax-absolute-annual-arpa_vfvg-model_ensemble\n",
      "forecast-tasmax-absolute-annual-arpa_vfvg\n",
      "forecast-tasmax-absolute-annual-arpa_vfvg-model_ensemble-all_year\n",
      "forecast-tasmax-absolute-annual-arpa_vfvg-all_year\n",
      "forecast-tasmin-anomaly-thirty_year-arpa_vfvgtaa-model_ensemble\n",
      "forecast-tasmin-anomaly-thirty_year-arpa_vfvgtaa\n",
      "forecast-tasmin-absolute-annual-arpa_vfvg-model_ensemble\n",
      "forecast-tasmin-absolute-annual-arpa_vfvg\n",
      "forecast-tasmin-absolute-annual-arpa_vfvg-model_ensemble-all_year\n",
      "forecast-tasmin-absolute-annual-arpa_vfvg-all_year\n",
      "forecast-tr-anomaly-thirty_year-arpa_vfvg-model_ensemble-all_year\n",
      "forecast-tr-anomaly-thirty_year-arpa_vfvg-all_year\n",
      "forecast-tr-absolute-annual-arpa_vfvg-model_ensemble-all_year\n",
      "forecast-tr-absolute-annual-arpa_vfvg-all_year\n",
      "------------ ALL COMPARISONS OK! ---------------------\n"
     ]
    }
   ],
   "source": [
    "for fcc in all_forecast_coverage_configurations:\n",
    "    print(fcc.identifier)\n",
    "    is_looping = True\n",
    "    for generated_fcov in database.generate_forecast_coverages_from_configuration(fcc):\n",
    "        # print(f\"\\t{generated_fcov.identifier.replace(fcc.identifier, '')}\")\n",
    "        fcov = database.get_forecast_coverage(session, generated_fcov.identifier)\n",
    "        if generated_fcov.identifier != fcov.identifier:\n",
    "            print(f\"\\tFound a mismatch: {generated_fcov.identifier=} - {fcov.identifier=}\")\n",
    "            is_looping = False\n",
    "            break\n",
    "    if not is_looping:\n",
    "        print(\"------------ BREAKING BEFORE BEING FINISHED ------\")\n",
    "        break\n",
    "else:\n",
    "    print(\"------------ ALL COMPARISONS OK! ---------------------\")"
   ]
  }
 ],
 "metadata": {
  "kernelspec": {
   "display_name": "Python 3 (ipykernel)",
   "language": "python",
   "name": "python3"
  },
  "language_info": {
   "codemirror_mode": {
    "name": "ipython",
    "version": 3
   },
   "file_extension": ".py",
   "mimetype": "text/x-python",
   "name": "python",
   "nbconvert_exporter": "python",
   "pygments_lexer": "ipython3",
   "version": "3.10.8"
  }
 },
 "nbformat": 4,
 "nbformat_minor": 5
}
