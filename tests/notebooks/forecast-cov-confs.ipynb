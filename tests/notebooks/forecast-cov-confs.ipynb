{
 "cells": [
  {
   "cell_type": "markdown",
   "id": "2dac8fd0-3d39-447e-88d3-e9152bd1ea06",
   "metadata": {},
   "source": [
    "# Forecast Coverage Configurations\n",
    "\n",
    "This notebook serves for demo/interactive testing of the new forecast coverage configurations"
   ]
  },
  {
   "cell_type": "code",
   "execution_count": 1,
   "id": "cd0f0972-fad9-4c05-96a9-cf919351b5a1",
   "metadata": {},
   "outputs": [
    {
     "data": {
      "text/plain": [
       "['forecast-tas-absolute-annual-arpa_vfvg',\n",
       " 'forecast-tas-absolute-annual-arpa_vfvg_all_year',\n",
       " 'forecast-tas-anomaly-annual-arpa_vfvgtaa',\n",
       " 'forecast-tas-anomaly-thirty_year-arpa_vfvgtaa_model_ensemble',\n",
       " 'forecast-tas-anomaly-thirty_year-arpa_vfvgtaa']"
      ]
     },
     "execution_count": 1,
     "metadata": {},
     "output_type": "execute_result"
    }
   ],
   "source": [
    "import logging\n",
    "\n",
    "import sqlmodel\n",
    "\n",
    "from arpav_ppcv import (\n",
    "    config,\n",
    "    database\n",
    ")\n",
    "\n",
    "logging.basicConfig(level=logging.DEBUG)\n",
    "\n",
    "settings = config.get_settings()\n",
    "session = sqlmodel.Session(database.get_engine(settings))\n",
    "\n",
    "all_forecast_coverage_configurations = database.collect_all_forecast_coverage_configurations(session)\n",
    "\n",
    "[fcm.identifier for fcm in all_forecast_coverage_configurations]"
   ]
  },
  {
   "cell_type": "code",
   "execution_count": 2,
   "id": "fddf564c-7de9-415d-a521-54ba295f6893",
   "metadata": {},
   "outputs": [
    {
     "data": {
      "text/plain": [
       "'forecast-tas-absolute-annual-arpa_vfvg-model_ensemble-rcp26-winter'"
      ]
     },
     "execution_count": 2,
     "metadata": {},
     "output_type": "execute_result"
    }
   ],
   "source": [
    "[coverage.identifier for coverage in database.generate_forecast_coverages_from_configuration(all_forecast_coverage_configurations[0])][0]"
   ]
  },
  {
   "cell_type": "code",
   "execution_count": 3,
   "id": "6ad05ee7-51aa-43eb-8066-a0ad1b6c7985",
   "metadata": {},
   "outputs": [
    {
     "name": "stderr",
     "output_type": "stream",
     "text": [
      "DEBUG:arpav_ppcv.database:[fcc.identifier for fcc in query_result]=['forecast-tas-absolute-annual-arpa_vfvg', 'forecast-tas-absolute-annual-arpa_vfvg_all_year']\n"
     ]
    },
    {
     "ename": "InvalidForecastCoverageConfigurationIdentifierError",
     "evalue": "Could not find a suitable coverage configuration identifier with a particular forecast model of 'model_ensemble'",
     "output_type": "error",
     "traceback": [
      "\u001b[0;31m---------------------------------------------------------------------------\u001b[0m",
      "\u001b[0;31mInvalidForecastCoverageConfigurationIdentifierError\u001b[0mTraceback (most recent call last)",
      "Cell \u001b[0;32mIn[3], line 1\u001b[0m\n\u001b[0;32m----> 1\u001b[0m \u001b[43mdatabase\u001b[49m\u001b[38;5;241;43m.\u001b[39;49m\u001b[43mget_forecast_coverage\u001b[49m\u001b[43m(\u001b[49m\u001b[43msession\u001b[49m\u001b[43m,\u001b[49m\u001b[43m \u001b[49m\u001b[38;5;124;43m\"\u001b[39;49m\u001b[38;5;124;43mforecast-tas-absolute-annual-arpa_vfvg-model_ensemble-rcp26-winter\u001b[39;49m\u001b[38;5;124;43m\"\u001b[39;49m\u001b[43m)\u001b[49m\n",
      "File \u001b[0;32m~/app/arpav_ppcv/database.py:939\u001b[0m, in \u001b[0;36mget_forecast_coverage\u001b[0;34m(session, identifier)\u001b[0m\n\u001b[1;32m    937\u001b[0m \u001b[38;5;66;03m# first try to find a longer forecast coverage configuration identifier\u001b[39;00m\n\u001b[1;32m    938\u001b[0m long_forecast_cov_conf_identifier \u001b[38;5;241m=\u001b[39m \u001b[38;5;124m\"\u001b[39m\u001b[38;5;124m-\u001b[39m\u001b[38;5;124m\"\u001b[39m\u001b[38;5;241m.\u001b[39mjoin(parts[:\u001b[38;5;241m6\u001b[39m])\n\u001b[0;32m--> 939\u001b[0m forecast_cov_conf \u001b[38;5;241m=\u001b[39m \u001b[43mget_forecast_coverage_configuration_by_identifier\u001b[49m\u001b[43m(\u001b[49m\n\u001b[1;32m    940\u001b[0m \u001b[43m    \u001b[49m\u001b[43msession\u001b[49m\u001b[43m,\u001b[49m\u001b[43m \u001b[49m\u001b[43mlong_forecast_cov_conf_identifier\u001b[49m\u001b[43m)\u001b[49m\n\u001b[1;32m    941\u001b[0m time_window_name \u001b[38;5;241m=\u001b[39m \u001b[38;5;28;01mNone\u001b[39;00m\n\u001b[1;32m    942\u001b[0m \u001b[38;5;28;01mif\u001b[39;00m forecast_cov_conf \u001b[38;5;129;01mis\u001b[39;00m \u001b[38;5;129;01mnot\u001b[39;00m \u001b[38;5;28;01mNone\u001b[39;00m:\n",
      "File \u001b[0;32m~/app/arpav_ppcv/database.py:2487\u001b[0m, in \u001b[0;36mget_forecast_coverage_configuration_by_identifier\u001b[0;34m(session, identifier)\u001b[0m\n\u001b[1;32m   2485\u001b[0m                 \u001b[38;5;28;01mbreak\u001b[39;00m\n\u001b[1;32m   2486\u001b[0m         \u001b[38;5;28;01melse\u001b[39;00m:\n\u001b[0;32m-> 2487\u001b[0m             \u001b[38;5;28;01mraise\u001b[39;00m exceptions\u001b[38;5;241m.\u001b[39mInvalidForecastCoverageConfigurationIdentifierError(\n\u001b[1;32m   2488\u001b[0m                 \u001b[38;5;124mf\u001b[39m\u001b[38;5;124m\"\u001b[39m\u001b[38;5;124mCould not find a suitable coverage configuration \u001b[39m\u001b[38;5;124m\"\u001b[39m\n\u001b[1;32m   2489\u001b[0m                 \u001b[38;5;124mf\u001b[39m\u001b[38;5;124m\"\u001b[39m\u001b[38;5;124midentifier with a particular forecast model \u001b[39m\u001b[38;5;124m\"\u001b[39m\n\u001b[1;32m   2490\u001b[0m                 \u001b[38;5;124mf\u001b[39m\u001b[38;5;124m\"\u001b[39m\u001b[38;5;124mof \u001b[39m\u001b[38;5;132;01m{\u001b[39;00mforecast_model_name\u001b[38;5;132;01m!r}\u001b[39;00m\u001b[38;5;124m\"\u001b[39m\n\u001b[1;32m   2491\u001b[0m             )\n\u001b[1;32m   2492\u001b[0m \u001b[38;5;28;01melse\u001b[39;00m:\n\u001b[1;32m   2493\u001b[0m     year_period_name \u001b[38;5;241m=\u001b[39m parts[\u001b[38;5;241m5\u001b[39m]\n",
      "\u001b[0;31mInvalidForecastCoverageConfigurationIdentifierError\u001b[0m: Could not find a suitable coverage configuration identifier with a particular forecast model of 'model_ensemble'"
     ]
    }
   ],
   "source": [
    "database.get_forecast_coverage(session, \"forecast-tas-absolute-annual-arpa_vfvg-model_ensemble-rcp26-winter\")"
   ]
  },
  {
   "cell_type": "code",
   "execution_count": 2,
   "id": "a90bae20-a4fd-4bb8-9163-df06466eda43",
   "metadata": {},
   "outputs": [
    {
     "data": {
      "text/plain": [
       "<ForecastYearPeriod.WINTER: 'WINTER'>"
      ]
     },
     "execution_count": 2,
     "metadata": {},
     "output_type": "execute_result"
    }
   ],
   "source": [
    "all_forecast_coverage_configurations[0].year_periods[0]"
   ]
  },
  {
   "cell_type": "code",
   "execution_count": 3,
   "id": "71e7be7f-80a0-4d89-9ad7-fd895ec7252d",
   "metadata": {},
   "outputs": [
    {
     "data": {
      "text/plain": [
       "['forecast-tas-absolute-annual-arpa-vfvg',\n",
       " 'forecast-tas-absolute-annual-arpa-vfvg_forecast-year-period:ALL_YEAR',\n",
       " 'forecast-tas-anomaly-annual-arpa-vfvgtaa',\n",
       " 'forecast-tas-anomaly-thirty_year-arpa-vfvgtaa_forecast-model:model_ensemble',\n",
       " 'forecast-tas-anomaly-thirty_year-arpa-vfvgtaa']"
      ]
     },
     "execution_count": 3,
     "metadata": {},
     "output_type": "execute_result"
    }
   ],
   "source": [
    "[fcc.identifier for fcc in all_forecast_coverage_configurations]"
   ]
  }
 ],
 "metadata": {
  "kernelspec": {
   "display_name": "Python 3 (ipykernel)",
   "language": "python",
   "name": "python3"
  },
  "language_info": {
   "codemirror_mode": {
    "name": "ipython",
    "version": 3
   },
   "file_extension": ".py",
   "mimetype": "text/x-python",
   "name": "python",
   "nbconvert_exporter": "python",
   "pygments_lexer": "ipython3",
   "version": "3.10.8"
  }
 },
 "nbformat": 4,
 "nbformat_minor": 5
}
