{
 "cells": [
  {
   "cell_type": "markdown",
   "id": "cf1dd222-32ac-4110-8181-e1c462b9c47d",
   "metadata": {},
   "source": [
    "# coverage data download grid\n",
    "\n",
    "We fit the client's requested spatial extent to a fixed grid, in order to potentially allow for caching\n",
    "\n",
    "Below we define a bunch of bboxes, simulating input from the client. For each bbox, we try to fit it to our coverage preparation grid. This means enlarging the original bbox so that it aligns with the grid\n",
    "\n",
    "If a bbox falls completely outside of the grid we raise an error. However, if the bbox partially intersects with the grid we clip it to the grid"
   ]
  },
  {
   "cell_type": "code",
   "execution_count": 1,
   "id": "dc5c1cd9-88e6-4ddc-a6f0-1c82e4648549",
   "metadata": {},
   "outputs": [],
   "source": [
    "import httpx\n",
    "import ipyleaflet\n",
    "import numpy as np\n",
    "import shapely\n",
    "import sidecar\n",
    "import sqlmodel\n",
    "\n",
    "from arpav_ppcv import (\n",
    "    config,\n",
    "    database,\n",
    "    datadownloads,\n",
    "    exceptions,\n",
    "    operations,\n",
    ")\n",
    "from arpav_ppcv.thredds import (\n",
    "    crawler,\n",
    "    ncss,\n",
    ")\n",
    "\n",
    "settings = config.get_settings()\n",
    "session = sqlmodel.Session(database.get_engine(settings))\n",
    "http_client = httpx.AsyncClient()\n",
    "\n",
    "cov = database.get_coverage(\n",
    "    session, \n",
    "    (\n",
    "        \"tas_30yr_anomaly_seasonal_agree_model_ensemble-\"\n",
    "        \"30yr-forecast-model_ensemble-tas-anomaly-rcp85-tw1-winter\"\n",
    "    )\n",
    ")\n",
    "\n",
    "arpav_grid = datadownloads.CoverageDownloadGrid.from_config(settings.coverage_download_settings.spatial_grid)\n",
    "\n",
    "bboxes = {\n",
    "    \"inside\": shapely.from_wkt(\"POLYGON ((13.3 45.2, 13.3 46.8, 12.1 46.8, 12.1 45.2, 13.3 45.2))\"),\n",
    "    \"water\": shapely.from_wkt(\"Polygon ((12.99700423944866223 45.29195993946695609, 13.35000423944866199 45.29195993946695609, 13.35000423944866199 45.43295993946695432, 12.99700423944866223 45.43295993946695432, 12.99700423944866223 45.29195993946695609))\"),\n",
    "    \"tiny\": shapely.from_wkt(\"Polygon ((12.815779996210372 46.20851850767168401, 12.83977999621037114 46.20851850767168401, 12.83977999621037114 46.2225185076716869, 12.815779996210372 46.2225185076716869, 12.815779996210372 46.20851850767168401))\"),\n",
    "    \"outside_left\": shapely.from_wkt(\"Polygon ((8.512064207837712 45.71491203133463443, 9.36806420783771188 45.71491203133463443, 9.36806420783771188 46.35891203133463279, 8.512064207837712 46.35891203133463279, 8.512064207837712 45.71491203133463443))\"),\n",
    "    \"outside_right\": shapely.from_wkt(\"Polygon ((14.22092928274156876 45.26076856403433624, 15.15092928274156847 45.26076856403433624, 15.15092928274156847 45.91976856403433516, 14.22092928274156876 45.91976856403433516, 14.22092928274156876 45.26076856403433624))\"),\n",
    "    \"outside_top\": shapely.from_wkt(\"Polygon ((11.3738158030779779 47.49323322467401454, 12.00281580307797746 47.49323322467401454, 12.00281580307797746 47.90323322467401113, 11.3738158030779779 47.90323322467401113, 11.3738158030779779 47.49323322467401454))\"),\n",
    "    \"outside_bottom\": shapely.from_wkt(\"Polygon ((10.81756741116426923 43.66521396617659434, 11.68156741116427 43.66521396617659434, 11.68156741116427 44.32421396617659326, 10.81756741116426923 44.32421396617659326, 10.81756741116426923 43.66521396617659434))\"),\n",
    "    \"intersects_left\": shapely.from_wkt(\"Polygon ((9.92464236098699892 45.29755871480751495, 10.55364236098699848 45.29755871480751495, 10.55364236098699848 45.68555871480751307, 9.92464236098699892 45.68555871480751307, 9.92464236098699892 45.29755871480751495))\"),\n",
    "    \"intersects_right\": shapely.from_wkt(\"Polygon ((13.74519052649958084 46.49788419209499324, 14.4991905264995804 46.49788419209499324, 14.4991905264995804 46.88588419209499136, 13.74519052649958084 46.88588419209499136, 13.74519052649958084 46.49788419209499324))\"),\n",
    "    \"intersects_top\": shapely.from_wkt(\"Polygon ((12.65465091603717696 46.82026106391365516, 13.31365091603717765 46.82026106391365516, 13.31365091603717765 47.37626106391365255, 12.65465091603717696 47.37626106391365255, 12.65465091603717696 46.82026106391365516))\"),\n",
    "    \"intersects_bottom\": shapely.from_wkt(\"Polygon ((12.8303083029572953 44.43399983300166411, 13.44530830295729551 44.43399983300166411, 13.44530830295729551 45.00499983300166207, 12.8303083029572953 45.00499983300166207, 12.8303083029572953 44.43399983300166411))\"),   \n",
    "}\n"
   ]
  },
  {
   "cell_type": "code",
   "execution_count": 2,
   "id": "bd885553-ca30-4d99-9e8f-529ae1e43276",
   "metadata": {},
   "outputs": [],
   "source": [
    "fitted_bboxes = {}\n",
    "for name, geom in bboxes.items():\n",
    "    try:\n",
    "        fitted = arpav_grid.fit_bbox(geom)\n",
    "    except exceptions.CoverageDataRetrievalError:\n",
    "        pass\n",
    "    else:\n",
    "        fitted_bboxes[f\"fitted_{name}\"] = fitted\n"
   ]
  },
  {
   "cell_type": "code",
   "execution_count": 3,
   "id": "9a35bfb4-1067-4774-8e9e-0d3d5e194446",
   "metadata": {},
   "outputs": [],
   "source": [
    "map_center = arpav_grid.shapely_box.centroid\n",
    "m = ipyleaflet.Map(center=(map_center.y, map_center.x), zoom=7)\n",
    "m.add_control(ipyleaflet.LayersControl(position=\"topright\"))\n",
    "\n",
    "grid_layer = ipyleaflet.WKTLayer(\n",
    "    name=\"grid\", \n",
    "    wkt_string=arpav_grid.shapely_multipolygon.wkt, \n",
    "    style={\n",
    "        \"color\": \"blue\",\n",
    "        \"fill\": False,\n",
    "        \"weight\": 1,\n",
    "    }\n",
    ")\n",
    "m.add_layer(grid_layer)\n",
    "\n",
    "wms_layer = ipyleaflet.WMSLayer(\n",
    "    name=cov.identifier.partition(\"-\")[0],\n",
    "    url=f\"https://arpav.geobeyond.dev/api/v2/coverages/wms/{cov.identifier}\",\n",
    "    layers=\"tas-uncertainty_group\",\n",
    "    format=\"image/png\",\n",
    "    transparent=True,\n",
    ")\n",
    "m.add_layer(wms_layer)"
   ]
  },
  {
   "cell_type": "code",
   "execution_count": 4,
   "id": "5250a2c8-223b-416c-96f4-eb1b349bbad4",
   "metadata": {},
   "outputs": [],
   "source": [
    "bbox_layers = [\n",
    "    ipyleaflet.WKTLayer(\n",
    "        name=name, \n",
    "        wkt_string=geom.wkt, \n",
    "        style={\n",
    "            \"color\": \"green\",\n",
    "            \"dashArray\": 8,\n",
    "        }\n",
    "    ) for geom in bboxes.values()\n",
    "]\n",
    "bbox_layers_group = ipyleaflet.LayerGroup(\n",
    "    name=\"bboxes\",\n",
    "    layers=bbox_layers\n",
    ")\n",
    "fitted_bbox_layers = [\n",
    "    ipyleaflet.WKTLayer(\n",
    "        name=name, \n",
    "        wkt_string=geom.wkt, \n",
    "        style={\n",
    "            \"color\": \"red\",\n",
    "            \"dashArray\": 8,\n",
    "        }\n",
    "    ) for geom in fitted_bboxes.values()\n",
    "]\n",
    "fitted_bbox_layers_group = ipyleaflet.LayerGroup(\n",
    "    name=\"fitted bboxes\",\n",
    "    layers=fitted_bbox_layers\n",
    ")\n",
    "\n",
    "m.add_layer(bbox_layers_group)\n",
    "m.add_layer(fitted_bbox_layers_group)"
   ]
  },
  {
   "cell_type": "code",
   "execution_count": 5,
   "id": "16817019-642f-4e3a-baea-107d27d66c5f",
   "metadata": {},
   "outputs": [],
   "source": [
    "sc = sidecar.Sidecar(title=\"map\")\n",
    "\n",
    "with sc:\n",
    "    display(m)"
   ]
  },
  {
   "cell_type": "code",
   "execution_count": 6,
   "id": "055a3c8f-de31-4ece-81f5-60dcd2816db7",
   "metadata": {},
   "outputs": [
    {
     "data": {
      "text/plain": [
       "'ensembletwbc/std/clipped/tas_avgagree_anom_tw1_rcp85_DJF_VFVGTAA.nc'"
      ]
     },
     "execution_count": 6,
     "metadata": {},
     "output_type": "execute_result"
    }
   ],
   "source": [
    "crawler.get_thredds_url_fragment(cov, settings.thredds_server.base_url)"
   ]
  },
  {
   "cell_type": "code",
   "execution_count": 7,
   "id": "c47ad264-7a3f-40fb-9516-d72678b02364",
   "metadata": {},
   "outputs": [
    {
     "ename": "SyntaxError",
     "evalue": "incomplete input (3925259188.py, line 1)",
     "output_type": "error",
     "traceback": [
      "\u001b[0;36m  Cell \u001b[0;32mIn[7], line 1\u001b[0;36m\u001b[0m\n\u001b[0;31m    async for chunk in ncss.async_query_dataset_area():\u001b[0m\n\u001b[0m                                                       ^\u001b[0m\n\u001b[0;31mSyntaxError\u001b[0m\u001b[0;31m:\u001b[0m incomplete input\n"
     ]
    }
   ],
   "source": [
    "async for chunk in ncss.async_query_dataset_area():"
   ]
  }
 ],
 "metadata": {
  "kernelspec": {
   "display_name": "Python 3 (ipykernel)",
   "language": "python",
   "name": "python3"
  },
  "language_info": {
   "codemirror_mode": {
    "name": "ipython",
    "version": 3
   },
   "file_extension": ".py",
   "mimetype": "text/x-python",
   "name": "python",
   "nbconvert_exporter": "python",
   "pygments_lexer": "ipython3",
   "version": "3.10.14"
  }
 },
 "nbformat": 4,
 "nbformat_minor": 5
}
