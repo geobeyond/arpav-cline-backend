{
 "cells": [
  {
   "cell_type": "markdown",
   "id": "a6c8024c-b6e9-444b-a933-122292c3e5bf",
   "metadata": {},
   "source": [
    "# Overviews\n",
    "\n",
    "This notebook demos retrieving overview data series"
   ]
  },
  {
   "cell_type": "code",
   "execution_count": null,
   "id": "304d2a0c-4cea-4c5c-b04e-e99ee2b52fa1",
   "metadata": {},
   "outputs": [],
   "source": [
    "%matplotlib widget\n",
    "\n",
    "import datetime as dt\n",
    "import logging\n",
    "\n",
    "import httpx\n",
    "import matplotlib.pyplot as plt\n",
    "import shapely\n",
    "import sqlmodel\n",
    "\n",
    "from arpav_ppcv import (\n",
    "    config,\n",
    "    database,\n",
    "    db,\n",
    "    operations,\n",
    "    timeseries,\n",
    ")\n",
    "from arpav_ppcv.schemas import (\n",
    "    static,\n",
    ")\n",
    "\n",
    "logging.basicConfig(level=logging.DEBUG)\n",
    "logging.getLogger(\"httpx\").setLevel(logging.WARNING)\n",
    "logging.getLogger(\"httpcore\").setLevel(logging.WARNING)\n",
    "logging.getLogger(\"matplotlib\").setLevel(logging.WARNING)\n",
    "\n",
    "http_client = httpx.Client()\n",
    "settings = config.get_settings()\n",
    "session = sqlmodel.Session(database.get_engine(settings))\n",
    "\n",
    "forecast_overview_series_configuration = db.get_forecast_overview_series_configuration_by_identifier(\n",
    "    session,\n",
    "    \"overview-forecast-tas-absolute-annual\"\n",
    ")\n",
    "observation_overview_series_configuration = db.get_observation_overview_series_configuration_by_identifier(\n",
    "    session,\n",
    "    \"overview-historical-tas-absolute-annual\"\n",
    ")\n",
    "print(forecast_overview_series_configuration.identifier)\n",
    "print(observation_overview_series_configuration.identifier)\n",
    "\n",
    "internal_forecast_overview_series = db.generate_forecast_overview_series_from_configuration(forecast_overview_series_configuration)\n",
    "internal_observation_overview_series = db.generate_observation_overview_series_from_configuration(observation_overview_series_configuration)\n",
    "print([fos.identifier for fos in internal_forecast_overview_series])\n",
    "print(internal_observation_overview_series.identifier)"
   ]
  },
  {
   "cell_type": "code",
   "execution_count": null,
   "id": "b885e27a-c62d-4007-be71-8da5a2c3e20c",
   "metadata": {},
   "outputs": [],
   "source": [
    "overview_series_result = timeseries.get_overview_time_series(\n",
    "    settings=settings,\n",
    "    session=session,\n",
    "    processing_methods=[\n",
    "        static.CoverageTimeSeriesProcessingMethod.NO_PROCESSING,\n",
    "        static.CoverageTimeSeriesProcessingMethod.MOVING_AVERAGE_11_YEARS,\n",
    "        static.CoverageTimeSeriesProcessingMethod.LOESS_SMOOTHING,\n",
    "    ],\n",
    "    include_uncertainty=True\n",
    ")"
   ]
  },
  {
   "cell_type": "code",
   "execution_count": null,
   "id": "227df328-37b9-43d9-95b1-5f7ab2b4d356",
   "metadata": {},
   "outputs": [],
   "source": [
    "for idx, osr in enumerate(overview_series_result):\n",
    "    print(idx, osr.identifier)"
   ]
  },
  {
   "cell_type": "code",
   "execution_count": null,
   "id": "cd6ab8c0-ae26-4bde-8f2b-e80038c43f2a",
   "metadata": {},
   "outputs": [],
   "source": [
    "fig = plt.figure()"
   ]
  },
  {
   "cell_type": "code",
   "execution_count": null,
   "id": "692b9ec9-e6d3-44b3-8fac-107dabc5f144",
   "metadata": {},
   "outputs": [],
   "source": [
    "for pd_series in overview_series_result:\n",
    "    pd_series.data_.plot()\n",
    "plt.legend()"
   ]
  }
 ],
 "metadata": {
  "kernelspec": {
   "display_name": "Python 3 (ipykernel)",
   "language": "python",
   "name": "python3"
  },
  "language_info": {
   "codemirror_mode": {
    "name": "ipython",
    "version": 3
   },
   "file_extension": ".py",
   "mimetype": "text/x-python",
   "name": "python",
   "nbconvert_exporter": "python",
   "pygments_lexer": "ipython3",
   "version": "3.10.16"
  }
 },
 "nbformat": 4,
 "nbformat_minor": 5
}
