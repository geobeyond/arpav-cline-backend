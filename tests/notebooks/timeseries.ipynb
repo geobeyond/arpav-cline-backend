{
 "cells": [
  {
   "cell_type": "markdown",
   "id": "ba6c0d2b-df3e-451d-922f-a812e7986ef8",
   "metadata": {},
   "source": [
    "# arpav-ppcv-backend test notebook\n",
    "\n",
    "This notebook has some interactive tests of time series data"
   ]
  },
  {
   "cell_type": "markdown",
   "id": "ef262da9-b90c-48eb-a1ef-221a3d7ea21f",
   "metadata": {},
   "source": [
    "We start off by doing some imports and initializing both the `settings` and a DB `session`, as these often come in handy\n",
    "\n",
    "Then we proceed to get some sample data and ask for a the corresponding time series"
   ]
  },
  {
   "cell_type": "code",
   "execution_count": 1,
   "id": "9d76dcd5-acef-408f-92d7-a1ea120e3591",
   "metadata": {
    "scrolled": true
   },
   "source": [
    "%matplotlib widget\n",
    "\n",
    "import logging\n",
    "\n",
    "import httpx\n",
    "import matplotlib.pyplot as plt\n",
    "import pandas as pd\n",
    "import shapely.io\n",
    "import sqlmodel\n",
    "from loess.loess_1d import loess_1d\n",
    "\n",
    "from arpav_ppcv import (\n",
    "    database as db,\n",
    "    operations,\n",
    ")\n",
    "from arpav_ppcv.config import get_settings\n",
    "from arpav_ppcv.schemas.base import (\n",
    "    CoverageDataSmoothingStrategy,\n",
    "    ObservationDataSmoothingStrategy,\n",
    "    Season,\n",
    ")\n",
    "\n",
    "logging.basicConfig(level=logging.DEBUG)\n",
    "logging.getLogger(\"httpx\").setLevel(logging.WARNING)\n",
    "logging.getLogger(\"httpcore\").setLevel(logging.WARNING)\n",
    "logging.getLogger(\"matplotlib\").setLevel(logging.WARNING)\n",
    "\n",
    "settings = get_settings()\n",
    "session = sqlmodel.Session(db.get_engine(settings))\n",
    "http_client = httpx.Client()\n",
    "\n",
    "coverage_identifier = \"tas_absolute-rcp26-DJF\"\n",
    "coverage_configuration = db.get_coverage_configuration_by_coverage_identifier(\n",
    "    session, coverage_identifier)\n",
    "\n",
    "POINT_GEOMS = {\n",
    "    \"near\": shapely.io.from_wkt(\"POINT(11.5469 44.9524)\"),\n",
    "}\n",
    "\n",
    "temporal_range = \"../..\""
   ],
   "outputs": []
  },
  {
   "cell_type": "code",
   "execution_count": 7,
   "id": "e7f37a28-5d1e-4787-b3c8-1e4ad177fedf",
   "metadata": {
    "scrolled": true
   },
   "source": [
    "time_series = operations.get_coverage_time_series(\n",
    "    settings,\n",
    "    session,\n",
    "    http_client,\n",
    "    coverage_configuration=coverage_configuration,\n",
    "    coverage_identifier=coverage_identifier,\n",
    "    point_geom=POINT_GEOMS[\"near\"],\n",
    "    temporal_range=temporal_range,\n",
    "    include_coverage_data=True,\n",
    "    include_observation_data=True,\n",
    "    coverage_data_smoothing=[\n",
    "        CoverageDataSmoothingStrategy.NO_SMOOTHING,\n",
    "        CoverageDataSmoothingStrategy.LOESS_SMOOTHING,\n",
    "        CoverageDataSmoothingStrategy.MOVING_AVERAGE_11_YEARS,\n",
    "    ],\n",
    "    observation_data_smoothing=[\n",
    "        ObservationDataSmoothingStrategy.NO_SMOOTHING, \n",
    "        ObservationDataSmoothingStrategy.MOVING_AVERAGE_5_YEARS,\n",
    "    ],\n",
    "    include_coverage_uncertainty=False,\n",
    "    include_coverage_related_data=False\n",
    ")"
   ],
   "outputs": []
  },
  {
   "cell_type": "code",
   "execution_count": 8,
   "id": "aed3a45b-2416-4689-a5c4-fffab570a252",
   "metadata": {
    "scrolled": true
   },
   "source": [
    "station_series_name = [i for i in time_series.keys() if i.startswith(\"station\")][0]\n",
    "\n",
    "df1 = time_series[coverage_identifier]\n",
    "df2 = time_series[station_series_name]"
   ],
   "outputs": []
  },
  {
   "cell_type": "code",
   "execution_count": 9,
   "id": "73ba59d8-9c20-4b17-8678-2cbb088ce315",
   "metadata": {},
   "source": [
    "fig, ax = plt.subplots()\n",
    "\n",
    "tas_line, = ax.plot(df1[f\"{coverage_identifier}__NO_SMOOTHING\"], label=coverage_identifier)\n",
    "station_line, = ax.plot(df2[f\"{coverage_configuration.related_observation_variable.name}__NO_SMOOTHING\"], label=station_series_name)\n",
    "tas_line.set_linestyle(\":\")\n",
    "tas_line.set_marker(\".\")\n",
    "station_line.set_linestyle(\":\")\n",
    "station_line.set_marker(\".\")\n",
    "\n",
    "loess_smoothed_tas_line, = ax.plot(df1[f\"{coverage_identifier}__LOESS_SMOOTHING\"], label=f\"{coverage_identifier}_LOESS\")\n",
    "ma11_smoothed_tas_line, = ax.plot(df1[f\"{coverage_identifier}__MOVING_AVERAGE_11_YEARS\"], label=f\"{coverage_identifier}_ma11\")\n",
    "\n",
    "mma5_smoothed_station_line = ax.plot(df2[f\"{coverage_configuration.related_observation_variable.name}__MOVING_AVERAGE_5_YEARS\"], label=\"smoothed station data ma5\")\n",
    "\n",
    "ax.legend()"
   ],
   "outputs": []
  },
  {
   "cell_type": "code",
   "execution_count": 6,
   "id": "414bda58-fbac-4bb3-9057-8de8d3dd53be",
   "metadata": {},
   "source": [
    "ax.clear()"
   ],
   "outputs": []
  }
 ],
 "metadata": {
  "kernelspec": {
   "display_name": "Python 3 (ipykernel)",
   "language": "python",
   "name": "python3"
  },
  "language_info": {
   "codemirror_mode": {
    "name": "ipython",
    "version": 3
   },
   "file_extension": ".py",
   "mimetype": "text/x-python",
   "name": "python",
   "nbconvert_exporter": "python",
   "pygments_lexer": "ipython3",
   "version": "3.10.8"
  }
 },
 "nbformat": 4,
 "nbformat_minor": 5
}
